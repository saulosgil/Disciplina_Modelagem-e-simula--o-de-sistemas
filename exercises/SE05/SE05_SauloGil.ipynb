{
 "cells": [
  {
   "cell_type": "markdown",
   "id": "0a018e17",
   "metadata": {},
   "source": [
    "**Problem 1 (40 pontos)**\n",
    "\n",
    "xxxxxxxxxxxxxxxxx\n"
   ]
  },
  {
   "cell_type": "code",
   "execution_count": null,
   "id": "42ab2bbc",
   "metadata": {},
   "outputs": [],
   "source": []
  },
  {
   "cell_type": "markdown",
   "id": "6f69c9d9",
   "metadata": {},
   "source": [
    "**Problem 2 (60 pontos)**\n",
    "\n",
    "xxxxxxxxxxxxxxxxx\n"
   ]
  },
  {
   "cell_type": "code",
   "execution_count": null,
   "id": "cd5ce72d",
   "metadata": {},
   "outputs": [],
   "source": []
  }
 ],
 "metadata": {
  "kernelspec": {
   "display_name": "Python 3",
   "language": "python",
   "name": "python3"
  },
  "language_info": {
   "codemirror_mode": {
    "name": "ipython",
    "version": 3
   },
   "file_extension": ".py",
   "mimetype": "text/x-python",
   "name": "python",
   "nbconvert_exporter": "python",
   "pygments_lexer": "ipython3",
   "version": "3.12.2"
  }
 },
 "nbformat": 4,
 "nbformat_minor": 5
}
