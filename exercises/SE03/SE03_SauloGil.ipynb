{
 "cells": [
  {
   "cell_type": "markdown",
   "id": "ced6779e",
   "metadata": {},
   "source": [
    "**Problem 1 (20 points)**\n",
    "\n",
    "Consider the probability distribution defined below. \n",
    "\n",
    "| $x$ | $p(x)$ |\n",
    "|---|---|\n",
    "| 0 | 0.25 |\n",
    "| 1 | 0.10 |\n",
    "| 2 | 0.20 |\n",
    "| 3 | 0.40 |\n",
    "| 4 | 0.05 |"
   ]
  },
  {
   "cell_type": "markdown",
   "id": "f4bc3477",
   "metadata": {},
   "source": [
    "(a) Generate 4000 random values ​​that follow this distribution and compare them, using a bar graph, with the theoretical results;"
   ]
  },
  {
   "cell_type": "code",
   "execution_count": null,
   "id": "66597c21",
   "metadata": {},
   "outputs": [],
   "source": []
  },
  {
   "cell_type": "markdown",
   "id": "3eaed2d2",
   "metadata": {},
   "source": [
    "(b) Generate 10 experimental values ​​for $p(x)$ and, taking $x=3$ as a reference, calculate the 95% confidence interval for $p(3)$."
   ]
  },
  {
   "cell_type": "markdown",
   "id": "a07be9f7",
   "metadata": {},
   "source": [
    "**Problem 2 (30 points)**\n",
    "\n",
    "Consider the empirically generated random values:\n",
    "\n",
    "$$x= \\{1, 3, 3, 4, 6, 7, 10, 15\\}$$"
   ]
  },
  {
   "cell_type": "markdown",
   "id": "3d2e527d",
   "metadata": {},
   "source": [
    "(a) Assume that the above data characterize the distribution and find the distribution function $F(x)$."
   ]
  },
  {
   "cell_type": "markdown",
   "id": "1f892c5a",
   "metadata": {},
   "source": []
  },
  {
   "cell_type": "markdown",
   "id": "7062fef5",
   "metadata": {},
   "source": [
    "(b) Find the inverse distribution function $F^{-1}(x)$."
   ]
  },
  {
   "cell_type": "code",
   "execution_count": null,
   "id": "70830cc6",
   "metadata": {},
   "outputs": [],
   "source": []
  },
  {
   "cell_type": "markdown",
   "id": "df5942f6",
   "metadata": {},
   "source": [
    "**Problem 3 (30 points)**\n",
    "\n",
    "Consider the random process $X(t) = 4 + 3 cos(5t+ θ)$, where θ is uniformly distributed on $[0, 2π]$."
   ]
  },
  {
   "cell_type": "markdown",
   "id": "514e7010",
   "metadata": {},
   "source": [
    "(a) Implement the random generator for θ from a RND in [0, 1[. (It is not necessary to implement a LCG)."
   ]
  },
  {
   "cell_type": "code",
   "execution_count": null,
   "id": "e12c2f2a",
   "metadata": {},
   "outputs": [],
   "source": []
  },
  {
   "cell_type": "markdown",
   "id": "628bc44c",
   "metadata": {},
   "source": [
    "(b) Graphically show the autocorrelation function of $X$ for $0 ≤ τ ≤ 0.2$ (step of 0.01) and 0 $≤ τ ≤ 1.5$ (step of 0.1)."
   ]
  },
  {
   "cell_type": "code",
   "execution_count": null,
   "id": "80ba73af",
   "metadata": {},
   "outputs": [],
   "source": []
  },
  {
   "cell_type": "markdown",
   "id": "7c451a99",
   "metadata": {},
   "source": [
    "(c) Calculate the time averages considering 1000 instances of $X(t)$."
   ]
  },
  {
   "cell_type": "code",
   "execution_count": null,
   "id": "7ca83d8b",
   "metadata": {},
   "outputs": [],
   "source": []
  },
  {
   "cell_type": "markdown",
   "id": "5448b984",
   "metadata": {},
   "source": [
    "(d) Observe the variation in the time average across instances. Can the process be considered stationary in the broad sense?"
   ]
  },
  {
   "cell_type": "markdown",
   "id": "86a93639",
   "metadata": {},
   "source": [
    "xxxxxxxxxxxxxx"
   ]
  },
  {
   "cell_type": "markdown",
   "id": "67a01d2e",
   "metadata": {},
   "source": [
    "**Problem 4 (20 points)**\n",
    "\n",
    "Consider Example 10, which models additive white noise in a signal. Using the same code as the example, consider the signal amplitude multiplied by a factor of 4 and by a factor of 8."
   ]
  },
  {
   "cell_type": "markdown",
   "id": "c7c97fb1",
   "metadata": {},
   "source": [
    "(a) Plot the resulting signal (signal plus noise), comparing the two new amplitude levels."
   ]
  },
  {
   "cell_type": "code",
   "execution_count": null,
   "id": "6b5de0d0",
   "metadata": {},
   "outputs": [],
   "source": []
  },
  {
   "cell_type": "markdown",
   "id": "f4a0bde5",
   "metadata": {},
   "source": [
    "(b) What changes from the example? Can any conclusions be drawn about the (pure) signal and noise levels?"
   ]
  },
  {
   "cell_type": "code",
   "execution_count": null,
   "id": "54f7ed6c",
   "metadata": {},
   "outputs": [],
   "source": []
  }
 ],
 "metadata": {
  "kernelspec": {
   "display_name": "Python 3",
   "language": "python",
   "name": "python3"
  },
  "language_info": {
   "codemirror_mode": {
    "name": "ipython",
    "version": 3
   },
   "file_extension": ".py",
   "mimetype": "text/x-python",
   "name": "python",
   "nbconvert_exporter": "python",
   "pygments_lexer": "ipython3",
   "version": "3.12.2"
  }
 },
 "nbformat": 4,
 "nbformat_minor": 5
}
